{
 "cells": [
  {
   "cell_type": "code",
   "execution_count": 40,
   "id": "6502e730",
   "metadata": {},
   "outputs": [],
   "source": [
    "import pandas as pd\n",
    "import numpy as np\n",
    "import os"
   ]
  },
  {
   "cell_type": "code",
   "execution_count": 11,
   "id": "7088edaa",
   "metadata": {},
   "outputs": [
    {
     "name": "stdout",
     "output_type": "stream",
     "text": [
      "(21, 6)\n"
     ]
    },
    {
     "data": {
      "text/html": [
       "<div>\n",
       "<style scoped>\n",
       "    .dataframe tbody tr th:only-of-type {\n",
       "        vertical-align: middle;\n",
       "    }\n",
       "\n",
       "    .dataframe tbody tr th {\n",
       "        vertical-align: top;\n",
       "    }\n",
       "\n",
       "    .dataframe thead th {\n",
       "        text-align: right;\n",
       "    }\n",
       "</style>\n",
       "<table border=\"1\" class=\"dataframe\">\n",
       "  <thead>\n",
       "    <tr style=\"text-align: right;\">\n",
       "      <th></th>\n",
       "      <th>Order Number</th>\n",
       "      <th>Order Date</th>\n",
       "      <th>Item Name</th>\n",
       "      <th>Quantity</th>\n",
       "      <th>Product Price</th>\n",
       "      <th>Total products</th>\n",
       "    </tr>\n",
       "  </thead>\n",
       "  <tbody>\n",
       "    <tr>\n",
       "      <th>0</th>\n",
       "      <td>1388</td>\n",
       "      <td>2015-01-10 20:12:00</td>\n",
       "      <td>Onion Chutney</td>\n",
       "      <td>1</td>\n",
       "      <td>0.50</td>\n",
       "      <td>6</td>\n",
       "    </tr>\n",
       "    <tr>\n",
       "      <th>1</th>\n",
       "      <td>1388</td>\n",
       "      <td>2015-01-10 20:12:00</td>\n",
       "      <td>Mint Sauce</td>\n",
       "      <td>1</td>\n",
       "      <td>0.50</td>\n",
       "      <td>6</td>\n",
       "    </tr>\n",
       "    <tr>\n",
       "      <th>2</th>\n",
       "      <td>1388</td>\n",
       "      <td>2015-01-10 20:12:00</td>\n",
       "      <td>Lime Pickle</td>\n",
       "      <td>1</td>\n",
       "      <td>0.50</td>\n",
       "      <td>6</td>\n",
       "    </tr>\n",
       "    <tr>\n",
       "      <th>3</th>\n",
       "      <td>1388</td>\n",
       "      <td>2015-01-10 20:12:00</td>\n",
       "      <td>Paratha</td>\n",
       "      <td>1</td>\n",
       "      <td>2.95</td>\n",
       "      <td>6</td>\n",
       "    </tr>\n",
       "    <tr>\n",
       "      <th>4</th>\n",
       "      <td>1387</td>\n",
       "      <td>2015-01-10 16:55:00</td>\n",
       "      <td>Onion Bhaji</td>\n",
       "      <td>1</td>\n",
       "      <td>3.95</td>\n",
       "      <td>1</td>\n",
       "    </tr>\n",
       "  </tbody>\n",
       "</table>\n",
       "</div>"
      ],
      "text/plain": [
       "   Order Number           Order Date      Item Name  Quantity  Product Price  \\\n",
       "0          1388  2015-01-10 20:12:00  Onion Chutney         1           0.50   \n",
       "1          1388  2015-01-10 20:12:00     Mint Sauce         1           0.50   \n",
       "2          1388  2015-01-10 20:12:00    Lime Pickle         1           0.50   \n",
       "3          1388  2015-01-10 20:12:00        Paratha         1           2.95   \n",
       "4          1387  2015-01-10 16:55:00    Onion Bhaji         1           3.95   \n",
       "\n",
       "   Total products  \n",
       "0               6  \n",
       "1               6  \n",
       "2               6  \n",
       "3               6  \n",
       "4               1  "
      ]
     },
     "execution_count": 11,
     "metadata": {},
     "output_type": "execute_result"
    }
   ],
   "source": [
    "df = pd.read_csv('../data/restaurant_1_week_002.csv')\n",
    "print(df.shape)\n",
    "df.head()"
   ]
  },
  {
   "cell_type": "code",
   "execution_count": 17,
   "id": "40657652",
   "metadata": {},
   "outputs": [],
   "source": [
    "def extract(\n",
    "    data_dir: str, \n",
    "    prefix: str, \n",
    "    start_week: int, \n",
    "    end_week: int)\n",
    "-> pd.DataFrame:\n",
    "    \"\"\" Function to load and concat batch data.\n",
    "    \n",
    "    Parameters:\n",
    "    -----------\n",
    "    data_dir: str\n",
    "        directory where data is located\n",
    "    prefix: str\n",
    "        restaurant name (ex. restaurant_1)\n",
    "    start_week: int\n",
    "        start week to load\n",
    "    end_week: int\n",
    "        end week to load\n",
    "    \n",
    "    Return: \n",
    "    df: pd.Dataframe\n",
    "        Dataframe load\n",
    "    \"\"\"\n",
    "    df = pd.DataFrame()\n",
    "    for i in range(start_week, end_week+1):\n",
    "        file_path = os.path.join(data_dir, \"data\", f'{prefix}_week_{i}.csv')\n",
    "        if os.path.isfile(file_path):\n",
    "            batch = pd.read_csv(file_path)\n",
    "            df = pd.concat([df, batch], sort=True)\n",
    "    return df"
   ]
  },
  {
   "cell_type": "code",
   "execution_count": 19,
   "id": "7d9bb29e",
   "metadata": {},
   "outputs": [],
   "source": [
    "df_rest1 = extract(data_dir = '../', prefix = \"restaurant_1\", start_week = 108, end_week = 110)\n",
    "df_rest2= extract(data_dir = '../', prefix = \"restaurant_2\", start_week = 108, end_week = 110)"
   ]
  },
  {
   "cell_type": "code",
   "execution_count": 34,
   "id": "227b2cb2",
   "metadata": {},
   "outputs": [],
   "source": [
    "df_rest1.columns = df_rest1.columns.str.lower().str.replace(\" \", \"_\")\n",
    "df_rest1['order_date'] = pd.to_datetime(df_rest1['order_date'])\n",
    "df_rest1 = df_rest1.rename(columns={'order_number': 'order_id'})\n",
    "df_rest1 = df_rest1.sort_values('order_date')"
   ]
  },
  {
   "cell_type": "code",
   "execution_count": 41,
   "id": "b025fd9e",
   "metadata": {},
   "outputs": [
    {
     "data": {
      "text/plain": [
       "172    44.65\n",
       "393    44.65\n",
       "392    44.65\n",
       "224    44.65\n",
       "225    44.65\n",
       "       ...  \n",
       "61     17.75\n",
       "272    19.75\n",
       "60     19.75\n",
       "271    19.75\n",
       "91     19.75\n",
       "Name: total_product_price, Length: 1188, dtype: float64"
      ]
     },
     "execution_count": 41,
     "metadata": {},
     "output_type": "execute_result"
    }
   ],
   "source": [
    "df_rest1['total_product_price'] = df_rest1['quantity'] * df_rest1['product_price']\n",
    "df_rest1.groupby('order_id')['total_product_price'].transform(np.sum)"
   ]
  },
  {
   "cell_type": "code",
   "execution_count": null,
   "id": "57d7f34c",
   "metadata": {},
   "outputs": [],
   "source": []
  }
 ],
 "metadata": {
  "kernelspec": {
   "display_name": "Python 3 (ipykernel)",
   "language": "python",
   "name": "python3"
  },
  "language_info": {
   "codemirror_mode": {
    "name": "ipython",
    "version": 3
   },
   "file_extension": ".py",
   "mimetype": "text/x-python",
   "name": "python",
   "nbconvert_exporter": "python",
   "pygments_lexer": "ipython3",
   "version": "3.9.10"
  }
 },
 "nbformat": 4,
 "nbformat_minor": 5
}
